{
 "cells": [
  {
   "attachments": {},
   "cell_type": "markdown",
   "metadata": {},
   "source": [
    "## This approach is failed."
   ]
  },
  {
   "cell_type": "code",
   "execution_count": 27,
   "metadata": {},
   "outputs": [],
   "source": [
    "import nltk\n",
    "from nltk.stem.lancaster import LancasterStemmer\n",
    "import numpy as np\n",
    "import json\n",
    "import random\n",
    "import string\n",
    "import contractions\n",
    "import tensorflow as tf\n",
    "import tflearn\n",
    "import pickle\n",
    "stemmer = LancasterStemmer()\n"
   ]
  },
  {
   "cell_type": "code",
   "execution_count": 33,
   "metadata": {},
   "outputs": [],
   "source": [
    "with open('intent.json') as f:\n",
    "    data = json.load(f)"
   ]
  },
  {
   "cell_type": "code",
   "execution_count": 48,
   "metadata": {},
   "outputs": [
    {
     "name": "stdout",
     "output_type": "stream",
     "text": [
      "Training Step: 7499  | total loss: \u001b[1m\u001b[32m1.56348\u001b[0m\u001b[0m | time: 0.011s\n",
      "| Adam | epoch: 1500 | loss: 1.56348 - acc: 0.3926 -- iter: 64/68\n",
      "Training Step: 7500  | total loss: \u001b[1m\u001b[32m1.59907\u001b[0m\u001b[0m | time: 0.013s\n",
      "| Adam | epoch: 1500 | loss: 1.59907 - acc: 0.3783 -- iter: 68/68\n",
      "--\n",
      "INFO:tensorflow:c:\\Pranstech\\Chat_bot\\Approach_2.tflearn is not in all_model_checkpoint_paths. Manually adding it.\n"
     ]
    }
   ],
   "source": [
    "# try:\n",
    "#     with open(\"data.pickle\", \"rb\") as f:\n",
    "#         words, labels, training, output = pickle.load(f)\n",
    "# except:\n",
    "def tokenize(sentence):\n",
    "    expanded_text = []\n",
    "    for word in sentence.split():\n",
    "        expanded_text.append(contractions.fix(word))\n",
    "    return nltk.word_tokenize(\"\".join(expanded_text))\n",
    "def stem(word):\n",
    "    return stemmer.stem(word.lower())\n",
    "\n",
    "all_words = []\n",
    "labels = []\n",
    "doc_x = []\n",
    "doc_y = []\n",
    "\n",
    "for intent in data['intents']:\n",
    "    for pattern in intent['patterns']:\n",
    "        w = tokenize(pattern)\n",
    "        all_words.extend(w)\n",
    "        doc_x.append(w)\n",
    "        doc_y.append(intent[\"tag\"])\n",
    "    if intent['tag'] not in labels:\n",
    "        labels.append(intent[\"tag\"])\n",
    "        \n",
    "words = [stemmer.stem(w.lower()) for w in all_words if w != \"?\"]\n",
    "words = sorted(list(set(all_words)))\n",
    "labels = sorted(labels)\n",
    "\n",
    "    \n",
    "training = []\n",
    "output = []\n",
    "\n",
    "out_empty = [0 for _ in range(len(labels))]\n",
    "for x, doc in enumerate(doc_x):\n",
    "    bag = []\n",
    "    wrds = [stemmer.stem(w.lower()) for w in doc]\n",
    "    \n",
    "    for w in all_words:\n",
    "        if w in wrds:\n",
    "            bag.append(1)\n",
    "        else:\n",
    "            bag.append(0)\n",
    "    output_row = out_empty[:]\n",
    "    output_row[labels.index(doc_y[x])] = 1\n",
    "    \n",
    "    training.append(bag)\n",
    "    output.append(output_row)\n",
    "    \n",
    "    \n",
    "training = np.array(training)\n",
    "output = np.array(output)\n",
    "with open(\"data.pickle\", \"wb\") as f:\n",
    "    pickle.dump((words, labels, training, output),f)\n",
    "\n",
    "    \n",
    "\n",
    "tf.compat.v1.reset_default_graph()\n",
    "\n",
    "net = tflearn.input_data(shape=[None,len(training[0])])\n",
    "net = tflearn.fully_connected(net,8)\n",
    "# net = tflearn.relu(net)\n",
    "net = tflearn.fully_connected(net,8)\n",
    "# net = tflearn.relu(net)\n",
    "net = tflearn.fully_connected(net,len(output[0]), activation=\"softmax\")\n",
    "net = tflearn.regression(net)\n",
    "\n",
    "model = tflearn.DNN(net)\n",
    "\n",
    "# try:\n",
    "#     model.load(\"Approach_2.tflearn\")\n",
    "# except:\n",
    "model.fit(training,output,n_epoch=1500, batch_size=16, show_metric=True)\n",
    "model.save(\"Approach_2.tflearn\")"
   ]
  },
  {
   "cell_type": "code",
   "execution_count": 49,
   "metadata": {},
   "outputs": [],
   "source": [
    "def bag_of_words(s, words):\n",
    "        bag = [0 for _ in range(len(words))]\n",
    "        \n",
    "        s_words = nltk.word_tokenize(s)\n",
    "        s_words = [stemmer.stem(w.lower()) for w in s_words]\n",
    "        \n",
    "        for se in s_words:\n",
    "            for i,w in enumerate(words):\n",
    "                if w == se:\n",
    "                    bag[i] = 1\n",
    "                # else:\n",
    "                #     bag[i].appedn(0)\n",
    "        return np.array(bag)"
   ]
  },
  {
   "cell_type": "code",
   "execution_count": 50,
   "metadata": {},
   "outputs": [],
   "source": [
    "def get_response(text):\n",
    "    res = model.predict([bag_of_words(text, all_words)])\n",
    "    res_idx = np.argmax(res)\n",
    "    \n",
    "    tag = labels[res_idx]\n",
    "    if res_idx > 0.9:\n",
    "        for tg in data[\"intents\"]:\n",
    "            if tg['tag'] == tag:\n",
    "                responses = tg[\"responses\"]\n",
    "    return random.sample(responses,3)    \n",
    "    \n",
    "    "
   ]
  },
  {
   "cell_type": "code",
   "execution_count": 70,
   "metadata": {},
   "outputs": [
    {
     "data": {
      "text/plain": [
       "['Ohh sure, Would like to help with that...!! What type of inusrance do you need?',\n",
       " \"That's great, we have Dental, Medial and Health insurance.\",\n",
       " \"That's great, We have multiple options for you like 'Medical', 'Dental', 'Vision'.\"]"
      ]
     },
     "execution_count": 70,
     "metadata": {},
     "output_type": "execute_result"
    }
   ],
   "source": [
    "get_response(\"Yes\")"
   ]
  }
 ],
 "metadata": {
  "kernelspec": {
   "display_name": "base",
   "language": "python",
   "name": "python3"
  },
  "language_info": {
   "codemirror_mode": {
    "name": "ipython",
    "version": 3
   },
   "file_extension": ".py",
   "mimetype": "text/x-python",
   "name": "python",
   "nbconvert_exporter": "python",
   "pygments_lexer": "ipython3",
   "version": "3.9.13"
  },
  "orig_nbformat": 4
 },
 "nbformat": 4,
 "nbformat_minor": 2
}
