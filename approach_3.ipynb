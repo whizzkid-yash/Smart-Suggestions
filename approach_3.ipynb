{
 "cells": [
  {
   "cell_type": "code",
   "execution_count": 4,
   "metadata": {},
   "outputs": [],
   "source": [
    "import json\n",
    "import random\n",
    "import numpy as np\n",
    "from sklearn.feature_extraction.text import CountVectorizer, TfidfVectorizer\n",
    "from sklearn.naive_bayes import MultinomialNB\n",
    "from sklearn.neural_network import MLPClassifier\n",
    "from sklearn.metrics import accuracy_score, classification_report\n",
    "from sklearn.model_selection import train_test_split\n",
    "from sklearn.ensemble import RandomForestClassifier\n",
    "# Load the intent.json file\n",
    "with open('intent.json') as file:\n",
    "    data = json.load(file)\n",
    "\n",
    "# Create lists to store the data\n",
    "X = []  # Text data\n",
    "y = []  # Intent labels\n",
    "\n",
    "# Extract the text and intent labels from the data\n",
    "for intent in data['intents']:\n",
    "    for pattern in intent['patterns']:\n",
    "        X.append(pattern)\n",
    "        y.append(intent['tag'])\n",
    "\n",
    "# Convert the text data to numerical form using a CountVectorizer\n",
    "vectorizer = CountVectorizer()\n",
    "X = vectorizer.fit_transform(X)\n",
    "\n",
    "# Split the data into training and test sets\n",
    "X_train, X_test, y_train, y_test = train_test_split(X, y, test_size=0.2, random_state=42)\n",
    "\n",
    "# Train a machine learning model using a Naive Bayes classifier\n",
    "mlp_classifier = MLPClassifier(hidden_layer_sizes=(200,), max_iter=1500,activation='logistic')\n",
    "classifier = RandomForestClassifier()\n",
    "clf = MultinomialNB()\n",
    "clf.fit(X_train, y_train)\n",
    "classifier.fit(X_train, y_train)\n",
    "mlp_classifier.fit(X_train, y_train)\n",
    "\n",
    "# Evaluate the model's performance on the test set\n",
    "y_pred = clf.predict(X_test)\n",
    "accuracy = accuracy_score(y_test, y_pred)\n",
    "\n",
    "# Evaluate the model's performance on the test set\n",
    "y_pred_random = classifier.predict(X_test)\n",
    "accuracy_random = accuracy_score(y_test, y_pred_random)\n",
    "\n",
    "# Evaluate the model's performance on the test set\n",
    "y_pred_mlp = mlp_classifier.predict(X_test)\n",
    "mlp_accuracy = accuracy_score(y_test, y_pred_mlp)"
   ]
  },
  {
   "cell_type": "code",
   "execution_count": null,
   "metadata": {},
   "outputs": [],
   "source": [
    "{\n",
    "    \"tag\" : \"reserving_time\",\n",
    "    \"patterns\" : [\n",
    "    \"Call me tommorow\", \"call me monday\", \"Please call\", \"You can connect with me on Tuesday\", \"I am busy right now please call me later\"\n",
    "    ],\n",
    "    \"responses\" :[\n",
    "    \"Ok Sure! At what time should I call you?\", \"Tell me at what time I should reserve you for a call.\", \"So tell me when should I book a calendar for you.\" , \"Let me know the best time to reach you!\", \"Kindly inform me the convenient time to reach you!\", \"Please state your preferred time for us to reach you!\"\n",
    "    ]\n",
    "}, \n",
    "{\n",
    "        \"tag\" : \"complaint\",\n",
    "        \"patterns\":[\n",
    "            \"have a complaint\", \"I want to raise a complaint\", \"there is a complaint about a service\", \"I am facing some problem with my plan.\", \"Facing problem\", \"I am having trouble. Can you please help?\", \"facing trouble\"\n",
    "        ],\n",
    "        \"responses\":[\n",
    "            \"Please provide us your complaint in order to assist you\", \"Please mention your complaint, we will reach you and sorry for any inconvenience caused\", \"Sorry for the trouble you're facing. We can surely assit you.\", \"Sorry! Please give me details about your issue.\"\n",
    "        ],\n",
    "        \"context\":[]\n",
    "       },\n",
    " {\n",
    "          \"tag\":\"greeting\",\n",
    "          \"patterns\":[\n",
    "             \"Hi there\",\n",
    "             \"How are you\",\n",
    "             \"Is anyone there?\",\n",
    "             \"Hey\",\n",
    "             \"Hola\",\n",
    "             \"Hello\",\n",
    "             \"Good day\",\n",
    "             \"Hi\"\n",
    "          ],\n",
    "          \"responses\":[\n",
    "             \"Hello, thanks for asking\",\n",
    "             \"Good to see you again\",\n",
    "             \"Hi there, how can I help?\",\n",
    "             \"Hi! How can I help you today?\",\n",
    "            \"Hello there! What can I assist you with?\",\n",
    "            \"Hey! How may I be of service?\",\n",
    "            \"Good [morning/afternoon/evening]! Let me know what you need help with.\",\n",
    "            \"I'm doing well, thanks for asking. How can I assist you?\",\n",
    "            \"Hello\",\n",
    "            \"Hi there\"\n",
    "                     ],\n",
    "          \"context\":[\n",
    "             \"\"\n",
    "          ]\n",
    "       },"
   ]
  },
  {
   "cell_type": "code",
   "execution_count": 5,
   "metadata": {},
   "outputs": [
    {
     "data": {
      "text/plain": [
       "(0.7142857142857143, 0.5714285714285714)"
      ]
     },
     "execution_count": 5,
     "metadata": {},
     "output_type": "execute_result"
    }
   ],
   "source": [
    "mlp_accuracy, accuracy_random"
   ]
  },
  {
   "cell_type": "code",
   "execution_count": 6,
   "metadata": {},
   "outputs": [
    {
     "name": "stdout",
     "output_type": "stream",
     "text": [
      "                   precision    recall  f1-score   support\n",
      "\n",
      "            about       0.00      0.00      0.00         1\n",
      "  about_insurance       0.40      1.00      0.57         2\n",
      "  already_insured       1.00      1.00      1.00         1\n",
      "         greeting       0.67      0.67      0.67         3\n",
      "             help       1.00      1.00      1.00         1\n",
      "negative_response       1.00      1.00      1.00         3\n",
      "           thanks       1.00      0.33      0.50         3\n",
      "\n",
      "         accuracy                           0.71        14\n",
      "        macro avg       0.72      0.71      0.68        14\n",
      "     weighted avg       0.77      0.71      0.69        14\n",
      "\n"
     ]
    },
    {
     "name": "stderr",
     "output_type": "stream",
     "text": [
      "c:\\Users\\wetec\\anaconda3\\lib\\site-packages\\sklearn\\metrics\\_classification.py:1318: UndefinedMetricWarning: Precision and F-score are ill-defined and being set to 0.0 in labels with no predicted samples. Use `zero_division` parameter to control this behavior.\n",
      "  _warn_prf(average, modifier, msg_start, len(result))\n",
      "c:\\Users\\wetec\\anaconda3\\lib\\site-packages\\sklearn\\metrics\\_classification.py:1318: UndefinedMetricWarning: Precision and F-score are ill-defined and being set to 0.0 in labels with no predicted samples. Use `zero_division` parameter to control this behavior.\n",
      "  _warn_prf(average, modifier, msg_start, len(result))\n",
      "c:\\Users\\wetec\\anaconda3\\lib\\site-packages\\sklearn\\metrics\\_classification.py:1318: UndefinedMetricWarning: Precision and F-score are ill-defined and being set to 0.0 in labels with no predicted samples. Use `zero_division` parameter to control this behavior.\n",
      "  _warn_prf(average, modifier, msg_start, len(result))\n"
     ]
    }
   ],
   "source": [
    "print(classification_report(y_test, y_pred_mlp)) "
   ]
  },
  {
   "cell_type": "code",
   "execution_count": 7,
   "metadata": {},
   "outputs": [
    {
     "name": "stdout",
     "output_type": "stream",
     "text": [
      "                   precision    recall  f1-score   support\n",
      "\n",
      "            about       0.00      0.00      0.00         1\n",
      "  about_insurance       0.33      1.00      0.50         2\n",
      "  already_insured       1.00      1.00      1.00         1\n",
      "         greeting       0.50      0.67      0.57         3\n",
      "             help       1.00      1.00      1.00         1\n",
      "negative_response       1.00      0.67      0.80         3\n",
      "           thanks       0.00      0.00      0.00         3\n",
      "\n",
      "         accuracy                           0.57        14\n",
      "        macro avg       0.55      0.62      0.55        14\n",
      "     weighted avg       0.51      0.57      0.51        14\n",
      "\n"
     ]
    },
    {
     "name": "stderr",
     "output_type": "stream",
     "text": [
      "c:\\Users\\wetec\\anaconda3\\lib\\site-packages\\sklearn\\metrics\\_classification.py:1318: UndefinedMetricWarning: Precision and F-score are ill-defined and being set to 0.0 in labels with no predicted samples. Use `zero_division` parameter to control this behavior.\n",
      "  _warn_prf(average, modifier, msg_start, len(result))\n",
      "c:\\Users\\wetec\\anaconda3\\lib\\site-packages\\sklearn\\metrics\\_classification.py:1318: UndefinedMetricWarning: Precision and F-score are ill-defined and being set to 0.0 in labels with no predicted samples. Use `zero_division` parameter to control this behavior.\n",
      "  _warn_prf(average, modifier, msg_start, len(result))\n",
      "c:\\Users\\wetec\\anaconda3\\lib\\site-packages\\sklearn\\metrics\\_classification.py:1318: UndefinedMetricWarning: Precision and F-score are ill-defined and being set to 0.0 in labels with no predicted samples. Use `zero_division` parameter to control this behavior.\n",
      "  _warn_prf(average, modifier, msg_start, len(result))\n"
     ]
    }
   ],
   "source": [
    "print(classification_report(y_test, y_pred_random))"
   ]
  },
  {
   "cell_type": "code",
   "execution_count": 63,
   "metadata": {},
   "outputs": [
    {
     "name": "stdout",
     "output_type": "stream",
     "text": [
      "Predicted intent --->> negative_response\n",
      "Prob --->> 0.9690580102809289\n",
      "[\"Suggestions 1: I'm sorry to hear that. I'm here to assist you, so please let me know if there's anything you need.\", 'Suggestions 2: I apologize for any inconvenience caused. If you would like me to stop messaging you, please let me know and I will comply with your request.', \"Suggestions 3: I'm sorry, I didn't mean to cause any offense. Can you tell me more about what's bothering you?\"]\n"
     ]
    }
   ],
   "source": [
    "def get_response(text):\n",
    "    # Convert the text to numerical form using the CountVectorizer\n",
    "    input_data = vectorizer.transform([text])\n",
    "    # Use the trained model to predict the intent label for the input data\n",
    "    predicted_intent_probs = mlp_classifier.predict_proba(input_data)[0]\n",
    "    # Get the index of the highest probability\n",
    "    max_prob_index = np.argmax(predicted_intent_probs)\n",
    "    # Get the predicted intent label and corresponding probability\n",
    "    predicted_intent = mlp_classifier.classes_[max_prob_index]\n",
    "    print(\"Predicted intent --->>\", predicted_intent)\n",
    "    predicted_prob = predicted_intent_probs[max_prob_index]\n",
    "    print(\"Prob --->>\", predicted_prob)\n",
    "    # Check if the predicted probability is greater than 0.8\n",
    "    if predicted_prob >= 0.40:\n",
    "        # Get a list of responses for the predicted intent label\n",
    "        responses = []\n",
    "        for intent in data['intents']:\n",
    "            if intent['tag'] == predicted_intent:\n",
    "                responses = intent['responses']\n",
    "        suggestions = random.sample(responses,3)\n",
    "        for i, suggestion in enumerate(suggestions):\n",
    "            suggestions[i] = f\"Suggestions {i + 1}: {suggestion}\"\n",
    "        # Choose a random response from the list and return it\n",
    "        # return random.sample(responses,3)\n",
    "        return suggestions\n",
    "    else:\n",
    "        # Return a default response if the predicted probability is too low\n",
    "        return \"I'm sorry, I didn't understand that.\"\n",
    "\n",
    "# Test the chatbot by generating a response for a sample input\n",
    "text = 'No '\n",
    "response  = get_response(text)\n",
    "print(response)\n"
   ]
  },
  {
   "cell_type": "code",
   "execution_count": 8,
   "metadata": {},
   "outputs": [],
   "source": [
    "import pickle\n",
    "\n",
    "# Train and fit the Random Forest classifier\n",
    "# ...\n",
    "\n",
    "# Save the classifier to a file\n",
    "with open('approach_3.pkl', 'wb') as f:\n",
    "    pickle.dump(mlp_classifier, f)\n",
    "# Load the saved classifier from a file\n",
    "with open('approach_3.pkl', 'rb') as f:\n",
    "    loaded_classifier = pickle.load(f)\n"
   ]
  },
  {
   "cell_type": "code",
   "execution_count": 9,
   "metadata": {},
   "outputs": [
    {
     "name": "stdout",
     "output_type": "stream",
     "text": [
      "Predicted intent --->> about_insurance\n",
      "Prob --->> 0.9375474038052789\n",
      "[\"Suggestions 1: That's great, we have Dental, Medial and Health insurance.\", 'Suggestions 2: Awesome..!! I will surely help you with your insurance. Tell me what type of insurance do you need.', 'Suggestions 3: Ohh sure, Would like to help with that...!! What type of inusrance do you need?']\n"
     ]
    }
   ],
   "source": [
    "def get_response(text):\n",
    "    # Convert the text to numerical form using the CountVectorizer\n",
    "    input_data = vectorizer.transform([text])\n",
    "    # Use the trained model to predict the intent label for the input data\n",
    "    predicted_intent_probs = loaded_classifier.predict_proba(input_data)[0]\n",
    "    # Get the index of the highest probability\n",
    "    max_prob_index = np.argmax(predicted_intent_probs)\n",
    "    # Get the predicted intent label and corresponding probability\n",
    "    predicted_intent = loaded_classifier.classes_[max_prob_index]\n",
    "    print(\"Predicted intent --->>\", predicted_intent)\n",
    "    predicted_prob = predicted_intent_probs[max_prob_index]\n",
    "    print(\"Prob --->>\", predicted_prob)\n",
    "    # Check if the predicted probability is greater than 0.8\n",
    "    if predicted_prob >= 0.40:\n",
    "        # Get a list of responses for the predicted intent label\n",
    "        responses = []\n",
    "        for intent in data['intents']:\n",
    "            if intent['tag'] == predicted_intent:\n",
    "                responses = intent['responses']\n",
    "        suggestions = random.sample(responses,3)\n",
    "        for i, suggestion in enumerate(suggestions):\n",
    "            suggestions[i] = f\"Suggestions {i + 1}: {suggestion}\"\n",
    "        # Choose a random response from the list and return it\n",
    "        # return random.sample(responses,3)\n",
    "        return suggestions\n",
    "    else:\n",
    "        # Return a default response if the predicted probability is too low\n",
    "        return \"I'm sorry, I didn't understand that.\"\n",
    "\n",
    "# Test the chatbot by generating a response for a sample input\n",
    "text = 'sure'\n",
    "response  = get_response(text)\n",
    "print(response)"
   ]
  },
  {
   "cell_type": "code",
   "execution_count": 47,
   "metadata": {},
   "outputs": [
    {
     "name": "stdout",
     "output_type": "stream",
     "text": [
      "greeting\n",
      "['Hi! How can I help you today?', 'Hello, thanks for asking', 'Good [morning/afternoon/evening]! Let me know what you need help with.']\n"
     ]
    }
   ],
   "source": [
    "# Define a function to generate responses based on user input\n",
    "def get_response(text):\n",
    "    # Convert the text to numerical form using the CountVectorizer\n",
    "    input_data = vectorizer.transform([text])\n",
    "    # Use the trained model to predict the intent label for the input data\n",
    "    predicted_intent = classifier.predict(input_data)[0]\n",
    "    # Get a list of responses for the predicted intent label\n",
    "    print(predicted_intent)\n",
    "    responses = []\n",
    "    for intent in data['intents']:\n",
    "        if intent['tag'] == predicted_intent:\n",
    "            responses = intent['responses']\n",
    "    # Choose a random response from the list and return it\n",
    "    return random.sample(responses,3)\n",
    "\n",
    "# Test the chatbot by generating a response for a sample input\n",
    "text = 'all 3'\n",
    "response = get_response(text)\n",
    "print(response)\n"
   ]
  }
 ],
 "metadata": {
  "kernelspec": {
   "display_name": "base",
   "language": "python",
   "name": "python3"
  },
  "language_info": {
   "codemirror_mode": {
    "name": "ipython",
    "version": 3
   },
   "file_extension": ".py",
   "mimetype": "text/x-python",
   "name": "python",
   "nbconvert_exporter": "python",
   "pygments_lexer": "ipython3",
   "version": "3.9.13"
  },
  "orig_nbformat": 4
 },
 "nbformat": 4,
 "nbformat_minor": 2
}
